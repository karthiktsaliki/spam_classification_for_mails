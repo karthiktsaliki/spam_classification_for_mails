{
 "cells": [
  {
   "cell_type": "markdown",
   "metadata": {},
   "source": [
    "# Deep Neural Network for spam classifier"
   ]
  },
  {
   "cell_type": "code",
   "execution_count": 2,
   "metadata": {},
   "outputs": [
    {
     "name": "stderr",
     "output_type": "stream",
     "text": [
      "Using TensorFlow backend.\n"
     ]
    }
   ],
   "source": [
    "import numpy as np\n",
    "import preprocess\n",
    "from keras.models import Sequential\n",
    "from keras.layers import Dense"
   ]
  },
  {
   "cell_type": "markdown",
   "metadata": {},
   "source": [
    "# Make the data ready for training"
   ]
  },
  {
   "cell_type": "code",
   "execution_count": 3,
   "metadata": {
    "collapsed": true
   },
   "outputs": [],
   "source": [
    "trainX,trainY,testX,testY = preprocess.input_data('./data/ham','./data/spam',.1)  \n",
    "np.savetxt(\"./data/trainX.csv\", trainX, delimiter=\",\")\n",
    "np.savetxt(\"./data/trainY.csv\", trainY, delimiter=\",\")\n",
    "np.savetxt(\"./data/testX.csv\", testX, delimiter=\",\")\n",
    "np.savetxt(\"./data/testY.csv\", testY, delimiter=\",\")"
   ]
  },
  {
   "cell_type": "code",
   "execution_count": 4,
   "metadata": {
    "collapsed": true
   },
   "outputs": [],
   "source": [
    "def csv_to_numpy_array(filePath, delimiter):\n",
    "    return np.genfromtxt(filePath, delimiter=delimiter, dtype=None)"
   ]
  },
  {
   "cell_type": "markdown",
   "metadata": {},
   "source": [
    "# Split the data to train and test data"
   ]
  },
  {
   "cell_type": "code",
   "execution_count": 5,
   "metadata": {},
   "outputs": [
    {
     "name": "stdout",
     "output_type": "stream",
     "text": [
      "loading training data\n",
      "loading test data\n"
     ]
    }
   ],
   "source": [
    "print(\"loading training data\")\n",
    "trainX = csv_to_numpy_array(\"./data/trainX.csv\", delimiter=\",\")\n",
    "trainY = csv_to_numpy_array(\"./data/trainY.csv\", delimiter=\",\")\n",
    "trainY=trainY[:,0]\n",
    "print(\"loading test data\")\n",
    "testX = csv_to_numpy_array(\"./data/testX.csv\", delimiter=\",\")\n",
    "testY = csv_to_numpy_array(\"./data/testY.csv\", delimiter=\",\")\n",
    "testY=testY[:,0]"
   ]
  },
  {
   "cell_type": "markdown",
   "metadata": {},
   "source": [
    "# Create the model in keras"
   ]
  },
  {
   "cell_type": "code",
   "execution_count": 6,
   "metadata": {
    "collapsed": true
   },
   "outputs": [],
   "source": [
    "model = Sequential()\n",
    "model.add(Dense(12, input_dim=trainX.shape[1], activation='relu'))\n",
    "model.add(Dense(8, activation='relu'))\n",
    "model.add(Dense(1, activation='sigmoid'))"
   ]
  },
  {
   "cell_type": "markdown",
   "metadata": {},
   "source": [
    "# Compile model"
   ]
  },
  {
   "cell_type": "code",
   "execution_count": 7,
   "metadata": {
    "collapsed": true
   },
   "outputs": [],
   "source": [
    "model.compile(loss='binary_crossentropy', optimizer='adam', metrics=['accuracy'])"
   ]
  },
  {
   "cell_type": "markdown",
   "metadata": {},
   "source": [
    "# Fit the model"
   ]
  },
  {
   "cell_type": "code",
   "execution_count": 8,
   "metadata": {},
   "outputs": [
    {
     "name": "stdout",
     "output_type": "stream",
     "text": [
      "Epoch 1/20\n",
      "4655/4655 [==============================] - 0s 103us/step - loss: 0.6755 - acc: 0.7111\n",
      "Epoch 2/20\n",
      "4655/4655 [==============================] - 0s 77us/step - loss: 0.6300 - acc: 0.7134\n",
      "Epoch 3/20\n",
      "4655/4655 [==============================] - 0s 75us/step - loss: 0.5847 - acc: 0.7134\n",
      "Epoch 4/20\n",
      "4655/4655 [==============================] - 0s 106us/step - loss: 0.5438 - acc: 0.7134\n",
      "Epoch 5/20\n",
      "4655/4655 [==============================] - 0s 88us/step - loss: 0.5069 - acc: 0.7134\n",
      "Epoch 6/20\n",
      "4655/4655 [==============================] - 0s 81us/step - loss: 0.4679 - acc: 0.7134\n",
      "Epoch 7/20\n",
      "4655/4655 [==============================] - 0s 77us/step - loss: 0.4277 - acc: 0.7134\n",
      "Epoch 8/20\n",
      "4655/4655 [==============================] - 0s 80us/step - loss: 0.3898 - acc: 0.7134\n",
      "Epoch 9/20\n",
      "4655/4655 [==============================] - 0s 79us/step - loss: 0.3559 - acc: 0.7336\n",
      "Epoch 10/20\n",
      "4655/4655 [==============================] - 0s 77us/step - loss: 0.3264 - acc: 0.8103\n",
      "Epoch 11/20\n",
      "4655/4655 [==============================] - 0s 78us/step - loss: 0.3002 - acc: 0.8793\n",
      "Epoch 12/20\n",
      "4655/4655 [==============================] - 0s 78us/step - loss: 0.2768 - acc: 0.9257\n",
      "Epoch 13/20\n",
      "4655/4655 [==============================] - 0s 79us/step - loss: 0.2554 - acc: 0.9373\n",
      "Epoch 14/20\n",
      "4655/4655 [==============================] - 0s 99us/step - loss: 0.2361 - acc: 0.9557\n",
      "Epoch 15/20\n",
      "4655/4655 [==============================] - 0s 89us/step - loss: 0.2181 - acc: 0.9635\n",
      "Epoch 16/20\n",
      "4655/4655 [==============================] - 1s 116us/step - loss: 0.2011 - acc: 0.9742\n",
      "Epoch 17/20\n",
      "4655/4655 [==============================] - 0s 102us/step - loss: 0.1849 - acc: 0.9800\n",
      "Epoch 18/20\n",
      "4655/4655 [==============================] - 0s 87us/step - loss: 0.1694 - acc: 0.9841\n",
      "Epoch 19/20\n",
      "4655/4655 [==============================] - 0s 82us/step - loss: 0.1547 - acc: 0.9860\n",
      "Epoch 20/20\n",
      "4655/4655 [==============================] - 0s 80us/step - loss: 0.1407 - acc: 0.9880\n"
     ]
    },
    {
     "data": {
      "text/plain": [
       "<keras.callbacks.History at 0x1096d3550>"
      ]
     },
     "execution_count": 8,
     "metadata": {},
     "output_type": "execute_result"
    }
   ],
   "source": [
    "model.fit(trainX, trainY, epochs=20, batch_size=256)"
   ]
  },
  {
   "cell_type": "markdown",
   "metadata": {},
   "source": [
    "# Evaluate the model on test data"
   ]
  },
  {
   "cell_type": "code",
   "execution_count": 9,
   "metadata": {},
   "outputs": [
    {
     "name": "stdout",
     "output_type": "stream",
     "text": [
      "517/517 [==============================] - 0s 106us/step\n",
      "\n",
      "acc: 97.68%\n"
     ]
    }
   ],
   "source": [
    "scores = model.evaluate(testX, testY)\n",
    "print(\"\\n%s: %.2f%%\" % (model.metrics_names[1], scores[1]*100))"
   ]
  },
  {
   "cell_type": "code",
   "execution_count": null,
   "metadata": {
    "collapsed": true
   },
   "outputs": [],
   "source": []
  }
 ],
 "metadata": {
  "kernelspec": {
   "display_name": "Python [default]",
   "language": "python",
   "name": "python3"
  },
  "language_info": {
   "codemirror_mode": {
    "name": "ipython",
    "version": 3
   },
   "file_extension": ".py",
   "mimetype": "text/x-python",
   "name": "python",
   "nbconvert_exporter": "python",
   "pygments_lexer": "ipython3",
   "version": "3.6.2"
  }
 },
 "nbformat": 4,
 "nbformat_minor": 2
}
